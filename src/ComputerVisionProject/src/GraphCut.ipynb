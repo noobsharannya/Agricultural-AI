{
 "cells": [
  {
   "cell_type": "code",
   "execution_count": 1,
   "id": "cfe64dca",
   "metadata": {},
   "outputs": [],
   "source": [
    "import numpy as np\n",
    "from PIL import Image"
   ]
  },
  {
   "cell_type": "code",
   "execution_count": 2,
   "id": "6d15a9be",
   "metadata": {},
   "outputs": [],
   "source": [
    "import cv2\n",
    "from collections import namedtuple\n",
    "from sklearn.mixture import GaussianMixture\n",
    "import matplotlib.pyplot as plt\n",
    "import igraph as ig\n",
    "import logging\n",
    "import sys\n",
    "from tqdm.auto import tqdm as tq"
   ]
  },
  {
   "cell_type": "code",
   "execution_count": 3,
   "id": "67a1d573",
   "metadata": {},
   "outputs": [],
   "source": [
    "logging.basicConfig(stream=sys.stdout, level=logging.WARN)"
   ]
  },
  {
   "cell_type": "code",
   "execution_count": 4,
   "id": "f1c1b5f1",
   "metadata": {},
   "outputs": [],
   "source": [
    "con = namedtuple('_', ('FIX', 'UNK', 'FG', 'BG'))(1, 0, 1, 0)\n",
    "NUM_GMM_COMP = 5\n",
    "GAMMA = 50\n",
    "LAMDA = 9 * GAMMA\n",
    "NUM_ITERS = 3\n",
    "TOL = 1e-3"
   ]
  },
  {
   "cell_type": "code",
   "execution_count": 5,
   "id": "c7018824",
   "metadata": {},
   "outputs": [],
   "source": [
    "def fit_gmms(img, alphas, n_components):\n",
    "    fg = GaussianMixture(n_components=n_components)\n",
    "    fg.fit(img[alphas == con.FG].reshape((-1, img.shape[-1])))\n",
    "\n",
    "    bg = GaussianMixture(n_components=n_components)\n",
    "    bg.fit(img[alphas == con.BG].reshape((-1, img.shape[-1])))\n",
    "\n",
    "    return fg, bg\n",
    "\n",
    "def graph_cut(img, types, alphas, fg_gmm, bg_gmm, beta, gamma, lamda, connect_diag):\n",
    "    logging.info('GRAPH CUT')\n",
    "    \n",
    "    # compute region energy in one go to speed up\n",
    "    fg_D = - fg_gmm.score_samples(img.reshape((-1, img.shape[-1]))).reshape(img.shape[:-1])\n",
    "    bg_D = - bg_gmm.score_samples(img.reshape((-1, img.shape[-1]))).reshape(img.shape[:-1])\n",
    "\n",
    "    # closure function to calculate boundary energy\n",
    "    def compute_V(i, j, oi, oj):\n",
    "        diff = img[i, j] - img[oi, oj]\n",
    "        return gamma * np.exp(- beta * diff.dot(diff))\n",
    "\n",
    "    # fixed capacity for known edges\n",
    "    fix_cap = lamda\n",
    "\n",
    "    # BUILD GRAPH\n",
    "    logging.info('BUILD GRAPH')\n",
    "    num_pix = img.shape[0] * img.shape[1]\n",
    "\n",
    "    def vid(i, j): # vertex ID\n",
    "        return (img.shape[1] * i) + j\n",
    "\n",
    "    def ind(idx): # image index\n",
    "        return ((idx // img.shape[1]), (idx % img.shape[1]))\n",
    "    \n",
    "    graph = ig.Graph(directed=False)\n",
    "    graph.add_vertices(num_pix + 2)\n",
    "    S = num_pix\n",
    "    T = num_pix+1\n",
    "    # the last two vertices are S and T respectively\n",
    "\n",
    "    edges = []\n",
    "    weights = []\n",
    "    for i in range(img.shape[0]):\n",
    "        for j in range(img.shape[1]):\n",
    "\n",
    "            # add edges to S and T\n",
    "            if types[i, j] == con.FIX:\n",
    "                if alphas[i, j] == con.FG:\n",
    "                    edges.append((vid(i, j), S))\n",
    "                    weights.append(fix_cap)\n",
    "                else:\n",
    "                    edges.append((vid(i, j), T))\n",
    "                    weights.append(fix_cap)\n",
    "            else:\n",
    "                edges.append((vid(i, j), S))\n",
    "                weights.append(bg_D[i, j])\n",
    "\n",
    "                edges.append((vid(i, j), T))\n",
    "                weights.append(fg_D[i, j])\n",
    "            \n",
    "            # add edges to neighbours\n",
    "            if i > 0:\n",
    "                oi = i-1\n",
    "                oj = j\n",
    "                edges.append((vid(i, j), vid(oi, oj)))\n",
    "                weights.append(compute_V(i, j, oi, oj))\n",
    "            \n",
    "            if j > 0:\n",
    "                oi = i\n",
    "                oj = j-1 \n",
    "                edges.append((vid(i, j), vid(oi, oj)))\n",
    "                weights.append(compute_V(i, j, oi, oj))\n",
    "\n",
    "            if connect_diag:\n",
    "                if i > 0 and j > 0:\n",
    "                    oi = i-1\n",
    "                    oj = j-1 \n",
    "                    edges.append((vid(i, j), vid(oi, oj)))\n",
    "                    weights.append(compute_V(i, j, oi, oj))\n",
    "\n",
    "                if i > 0 and j < img.shape[1] - 1:\n",
    "                    oi = i-1\n",
    "                    oj = j+1 \n",
    "                    edges.append((vid(i, j), vid(oi, oj)))\n",
    "                    weights.append(compute_V(i, j, oi, oj))\n",
    "    \n",
    "    graph.add_edges(edges, attributes={'weight': weights})\n",
    "    logging.info('MINCUT')\n",
    "    cut = graph.st_mincut(S, T, capacity='weight')\n",
    "    bg_vertices = cut.partition[0]\n",
    "    fg_vertices = cut.partition[1]\n",
    "    if S in bg_vertices:\n",
    "        bg_vertices, fg_vertices = fg_vertices, bg_vertices\n",
    "    \n",
    "    new_alphas = np.zeros(img.shape[:2], dtype=np.uint8) # con.BG is filled, zeroes is faster\n",
    "    for v in fg_vertices:\n",
    "        if v not in (S, T):\n",
    "            new_alphas[ind(v)] = 1\n",
    "    return cut.value, new_alphas\n",
    "\n",
    "\n",
    "def grab_cut(img_, types_, alphas_, n_components, gamma, lamda,\n",
    "             num_iters, tol, connect_diag):\n",
    "    \n",
    "    logging.debug('GRAB CUT')\n",
    "    img = img_.copy().astype(np.float32)\n",
    "    types = types_.copy() # types tells whether the pixel is fixed or unknown\n",
    "    alphas = alphas_.copy() # alphas tells whether the pixel is fg or bg according to fixed or current estimate\n",
    "    \n",
    "    # calculate beta\n",
    "    logging.info('CALC BETA')\n",
    "    beta = 0\n",
    "    for i in range(img.shape[0]):\n",
    "        for j in range(img.shape[1]):\n",
    "            if i > 0:\n",
    "                diff = img[i, j] - img[i-1, j]\n",
    "                beta += diff.dot(diff)\n",
    "            if j > 0:\n",
    "                diff = img[i, j] - img[i, j-1]\n",
    "                beta += diff.dot(diff)\n",
    "            if connect_diag:\n",
    "                if i > 0 and j > 0:\n",
    "                    diff = img[i, j] - img[i-1, j-1]\n",
    "                    beta += diff.dot(diff)\n",
    "                if i > 0 and j < img.shape[1] - 1:\n",
    "                    diff = img[i, j] - img[i-1, j+1]\n",
    "                    beta += diff.dot(diff)\n",
    "    if connect_diag:\n",
    "        beta /= (4 * img.shape[0] * img.shape[1] - 3 * img.shape[0] - 3 * img.shape[1] + 2)\n",
    "    else:\n",
    "        beta /= (2 * img.shape[0] * img.shape[1] - img.shape[0] - img.shape[1])\n",
    "    beta *= 2\n",
    "    beta = 1 / beta\n",
    "    \n",
    "    prev_flow = -1\n",
    "    for _ in tq(range(num_iters)):\n",
    "        fg_gmm, bg_gmm = fit_gmms(img, alphas, n_components)\n",
    "        flow, alphas = graph_cut(img, types, alphas, fg_gmm, bg_gmm, beta, gamma, lamda, connect_diag)\n",
    "    \n",
    "        if prev_flow != -1 and abs(prev_flow - flow) < tol:\n",
    "            break\n",
    "        \n",
    "        prev_flow = flow\n",
    "    \n",
    "    logging.info('DONE')\n",
    "    return alphas"
   ]
  },
  {
   "cell_type": "code",
   "execution_count": 6,
   "id": "2fac5569",
   "metadata": {},
   "outputs": [
    {
     "name": "stdout",
     "output_type": "stream",
     "text": [
      "C:\\Users\\JBSCHOLOR-2020-18\\Desktop\\My files\\ComputerVisionProject\\src\\train\\100075.jpg\n"
     ]
    },
    {
     "data": {
      "application/vnd.jupyter.widget-view+json": {
       "model_id": "a8fb296189b144cdab6fd507b989a677",
       "version_major": 2,
       "version_minor": 0
      },
      "text/plain": [
       "  0%|          | 0/3 [00:00<?, ?it/s]"
      ]
     },
     "metadata": {},
     "output_type": "display_data"
    },
    {
     "name": "stdout",
     "output_type": "stream",
     "text": [
      "C:\\Users\\JBSCHOLOR-2020-18\\Desktop\\My files\\ComputerVisionProject\\src\\train\\100080.jpg\n"
     ]
    },
    {
     "data": {
      "application/vnd.jupyter.widget-view+json": {
       "model_id": "2153ffb8ed64457487c39b16f0aff4d7",
       "version_major": 2,
       "version_minor": 0
      },
      "text/plain": [
       "  0%|          | 0/3 [00:00<?, ?it/s]"
      ]
     },
     "metadata": {},
     "output_type": "display_data"
    },
    {
     "name": "stdout",
     "output_type": "stream",
     "text": [
      "C:\\Users\\JBSCHOLOR-2020-18\\Desktop\\My files\\ComputerVisionProject\\src\\train\\100098.jpg\n"
     ]
    },
    {
     "data": {
      "application/vnd.jupyter.widget-view+json": {
       "model_id": "7ed93a04394e425db57f1e78a3978c8e",
       "version_major": 2,
       "version_minor": 0
      },
      "text/plain": [
       "  0%|          | 0/3 [00:00<?, ?it/s]"
      ]
     },
     "metadata": {},
     "output_type": "display_data"
    },
    {
     "name": "stdout",
     "output_type": "stream",
     "text": [
      "C:\\Users\\JBSCHOLOR-2020-18\\Desktop\\My files\\ComputerVisionProject\\src\\train\\103041.jpg\n"
     ]
    },
    {
     "data": {
      "application/vnd.jupyter.widget-view+json": {
       "model_id": "b0279485af384490928eb245ddea09ae",
       "version_major": 2,
       "version_minor": 0
      },
      "text/plain": [
       "  0%|          | 0/3 [00:00<?, ?it/s]"
      ]
     },
     "metadata": {},
     "output_type": "display_data"
    },
    {
     "name": "stdout",
     "output_type": "stream",
     "text": [
      "C:\\Users\\JBSCHOLOR-2020-18\\Desktop\\My files\\ComputerVisionProject\\src\\train\\104022.jpg\n"
     ]
    },
    {
     "data": {
      "application/vnd.jupyter.widget-view+json": {
       "model_id": "12d577dcb0744e0dbecd385570203777",
       "version_major": 2,
       "version_minor": 0
      },
      "text/plain": [
       "  0%|          | 0/3 [00:00<?, ?it/s]"
      ]
     },
     "metadata": {},
     "output_type": "display_data"
    },
    {
     "name": "stdout",
     "output_type": "stream",
     "text": [
      "C:\\Users\\JBSCHOLOR-2020-18\\Desktop\\My files\\ComputerVisionProject\\src\\train\\105019.jpg\n"
     ]
    },
    {
     "data": {
      "application/vnd.jupyter.widget-view+json": {
       "model_id": "acdce885dbf845b6bc845b2ecaf67f76",
       "version_major": 2,
       "version_minor": 0
      },
      "text/plain": [
       "  0%|          | 0/3 [00:00<?, ?it/s]"
      ]
     },
     "metadata": {},
     "output_type": "display_data"
    },
    {
     "name": "stdout",
     "output_type": "stream",
     "text": [
      "C:\\Users\\JBSCHOLOR-2020-18\\Desktop\\My files\\ComputerVisionProject\\src\\train\\105053.jpg\n"
     ]
    },
    {
     "data": {
      "application/vnd.jupyter.widget-view+json": {
       "model_id": "6fa25c60c72649369c6475f82ca05e86",
       "version_major": 2,
       "version_minor": 0
      },
      "text/plain": [
       "  0%|          | 0/3 [00:00<?, ?it/s]"
      ]
     },
     "metadata": {},
     "output_type": "display_data"
    },
    {
     "name": "stdout",
     "output_type": "stream",
     "text": [
      "C:\\Users\\JBSCHOLOR-2020-18\\Desktop\\My files\\ComputerVisionProject\\src\\train\\106020.jpg\n"
     ]
    },
    {
     "data": {
      "application/vnd.jupyter.widget-view+json": {
       "model_id": "1665ff5ca9ef4768ab2238b4dcb029ac",
       "version_major": 2,
       "version_minor": 0
      },
      "text/plain": [
       "  0%|          | 0/3 [00:00<?, ?it/s]"
      ]
     },
     "metadata": {},
     "output_type": "display_data"
    },
    {
     "name": "stdout",
     "output_type": "stream",
     "text": [
      "C:\\Users\\JBSCHOLOR-2020-18\\Desktop\\My files\\ComputerVisionProject\\src\\train\\106025.jpg\n"
     ]
    },
    {
     "data": {
      "application/vnd.jupyter.widget-view+json": {
       "model_id": "ec0bead2ff0e4f07b2fc045025e224a5",
       "version_major": 2,
       "version_minor": 0
      },
      "text/plain": [
       "  0%|          | 0/3 [00:00<?, ?it/s]"
      ]
     },
     "metadata": {},
     "output_type": "display_data"
    },
    {
     "name": "stdout",
     "output_type": "stream",
     "text": [
      "C:\\Users\\JBSCHOLOR-2020-18\\Desktop\\My files\\ComputerVisionProject\\src\\train\\108041.jpg\n"
     ]
    },
    {
     "data": {
      "application/vnd.jupyter.widget-view+json": {
       "model_id": "8c25d22ddad142d0868e55667808611d",
       "version_major": 2,
       "version_minor": 0
      },
      "text/plain": [
       "  0%|          | 0/3 [00:00<?, ?it/s]"
      ]
     },
     "metadata": {},
     "output_type": "display_data"
    },
    {
     "name": "stdout",
     "output_type": "stream",
     "text": [
      "C:\\Users\\JBSCHOLOR-2020-18\\Desktop\\My files\\ComputerVisionProject\\src\\train\\108073.jpg\n"
     ]
    },
    {
     "data": {
      "application/vnd.jupyter.widget-view+json": {
       "model_id": "8b166f62807b4effb420403a719fd7a4",
       "version_major": 2,
       "version_minor": 0
      },
      "text/plain": [
       "  0%|          | 0/3 [00:00<?, ?it/s]"
      ]
     },
     "metadata": {},
     "output_type": "display_data"
    },
    {
     "name": "stdout",
     "output_type": "stream",
     "text": [
      "C:\\Users\\JBSCHOLOR-2020-18\\Desktop\\My files\\ComputerVisionProject\\src\\train\\109034.jpg\n"
     ]
    },
    {
     "data": {
      "application/vnd.jupyter.widget-view+json": {
       "model_id": "d0ccfd77667b4f4a83cd12ed05170e0d",
       "version_major": 2,
       "version_minor": 0
      },
      "text/plain": [
       "  0%|          | 0/3 [00:00<?, ?it/s]"
      ]
     },
     "metadata": {},
     "output_type": "display_data"
    },
    {
     "name": "stdout",
     "output_type": "stream",
     "text": [
      "C:\\Users\\JBSCHOLOR-2020-18\\Desktop\\My files\\ComputerVisionProject\\src\\train\\112082.jpg\n"
     ]
    },
    {
     "data": {
      "application/vnd.jupyter.widget-view+json": {
       "model_id": "cba9850d575d47e4a1eb10d878534539",
       "version_major": 2,
       "version_minor": 0
      },
      "text/plain": [
       "  0%|          | 0/3 [00:00<?, ?it/s]"
      ]
     },
     "metadata": {},
     "output_type": "display_data"
    },
    {
     "name": "stdout",
     "output_type": "stream",
     "text": [
      "C:\\Users\\JBSCHOLOR-2020-18\\Desktop\\My files\\ComputerVisionProject\\src\\train\\113009.jpg\n"
     ]
    },
    {
     "data": {
      "application/vnd.jupyter.widget-view+json": {
       "model_id": "15da2b9e5e69406dba72aa20bddabefd",
       "version_major": 2,
       "version_minor": 0
      },
      "text/plain": [
       "  0%|          | 0/3 [00:00<?, ?it/s]"
      ]
     },
     "metadata": {},
     "output_type": "display_data"
    },
    {
     "name": "stdout",
     "output_type": "stream",
     "text": [
      "C:\\Users\\JBSCHOLOR-2020-18\\Desktop\\My files\\ComputerVisionProject\\src\\train\\banana1-resize.jpg\n"
     ]
    },
    {
     "data": {
      "application/vnd.jupyter.widget-view+json": {
       "model_id": "928b3098159d48ae972fcec65b2d21fe",
       "version_major": 2,
       "version_minor": 0
      },
      "text/plain": [
       "  0%|          | 0/3 [00:00<?, ?it/s]"
      ]
     },
     "metadata": {},
     "output_type": "display_data"
    },
    {
     "name": "stdout",
     "output_type": "stream",
     "text": [
      "C:\\Users\\JBSCHOLOR-2020-18\\Desktop\\My files\\ComputerVisionProject\\src\\train\\banana1.jpg\n"
     ]
    },
    {
     "data": {
      "application/vnd.jupyter.widget-view+json": {
       "model_id": "5cd615b7403447a984cea821adf9f080",
       "version_major": 2,
       "version_minor": 0
      },
      "text/plain": [
       "  0%|          | 0/3 [00:00<?, ?it/s]"
      ]
     },
     "metadata": {},
     "output_type": "display_data"
    },
    {
     "ename": "KeyboardInterrupt",
     "evalue": "",
     "output_type": "error",
     "traceback": [
      "\u001b[1;31m---------------------------------------------------------------------------\u001b[0m",
      "\u001b[1;31mKeyboardInterrupt\u001b[0m                         Traceback (most recent call last)",
      "Input \u001b[1;32mIn [6]\u001b[0m, in \u001b[0;36m<cell line: 2>\u001b[1;34m()\u001b[0m\n\u001b[0;32m     31\u001b[0m img \u001b[38;5;241m=\u001b[39m cv2\u001b[38;5;241m.\u001b[39mimread(p1)\n\u001b[0;32m     32\u001b[0m img2 \u001b[38;5;241m=\u001b[39m img\u001b[38;5;241m.\u001b[39mcopy()\n\u001b[1;32m---> 33\u001b[0m alphas \u001b[38;5;241m=\u001b[39m \u001b[43mgrab_cut\u001b[49m\u001b[43m(\u001b[49m\u001b[43mimg2\u001b[49m\u001b[43m,\u001b[49m\u001b[43m \u001b[49m\u001b[43mtypes\u001b[49m\u001b[43m,\u001b[49m\u001b[43m \u001b[49m\u001b[43malphas\u001b[49m\u001b[43m,\u001b[49m\u001b[43m \u001b[49m\u001b[43mn_components\u001b[49m\u001b[43m,\u001b[49m\u001b[43m \u001b[49m\u001b[43mgamma\u001b[49m\u001b[43m,\u001b[49m\u001b[43m \u001b[49m\u001b[43mlamda\u001b[49m\u001b[43m,\u001b[49m\u001b[43m \u001b[49m\u001b[43mnum_iters\u001b[49m\u001b[43m,\u001b[49m\u001b[43m \u001b[49m\u001b[43mtol\u001b[49m\u001b[43m,\u001b[49m\u001b[43m \u001b[49m\u001b[43mconnect_diag\u001b[49m\u001b[43m)\u001b[49m\n\u001b[0;32m     34\u001b[0m mask2 \u001b[38;5;241m=\u001b[39m np\u001b[38;5;241m.\u001b[39mwhere((alphas \u001b[38;5;241m==\u001b[39m \u001b[38;5;241m1\u001b[39m), \u001b[38;5;241m255\u001b[39m, \u001b[38;5;241m0\u001b[39m)\u001b[38;5;241m.\u001b[39mastype(\u001b[38;5;124m'\u001b[39m\u001b[38;5;124muint8\u001b[39m\u001b[38;5;124m'\u001b[39m)\n\u001b[0;32m     35\u001b[0m outim\u001b[38;5;241m=\u001b[39mImage\u001b[38;5;241m.\u001b[39mfromarray(mask2)\n",
      "Input \u001b[1;32mIn [5]\u001b[0m, in \u001b[0;36mgrab_cut\u001b[1;34m(img_, types_, alphas_, n_components, gamma, lamda, num_iters, tol, connect_diag)\u001b[0m\n\u001b[0;32m    136\u001b[0m \u001b[38;5;28;01mfor\u001b[39;00m _ \u001b[38;5;129;01min\u001b[39;00m tq(\u001b[38;5;28mrange\u001b[39m(num_iters)):\n\u001b[0;32m    137\u001b[0m     fg_gmm, bg_gmm \u001b[38;5;241m=\u001b[39m fit_gmms(img, alphas, n_components)\n\u001b[1;32m--> 138\u001b[0m     flow, alphas \u001b[38;5;241m=\u001b[39m \u001b[43mgraph_cut\u001b[49m\u001b[43m(\u001b[49m\u001b[43mimg\u001b[49m\u001b[43m,\u001b[49m\u001b[43m \u001b[49m\u001b[43mtypes\u001b[49m\u001b[43m,\u001b[49m\u001b[43m \u001b[49m\u001b[43malphas\u001b[49m\u001b[43m,\u001b[49m\u001b[43m \u001b[49m\u001b[43mfg_gmm\u001b[49m\u001b[43m,\u001b[49m\u001b[43m \u001b[49m\u001b[43mbg_gmm\u001b[49m\u001b[43m,\u001b[49m\u001b[43m \u001b[49m\u001b[43mbeta\u001b[49m\u001b[43m,\u001b[49m\u001b[43m \u001b[49m\u001b[43mgamma\u001b[49m\u001b[43m,\u001b[49m\u001b[43m \u001b[49m\u001b[43mlamda\u001b[49m\u001b[43m,\u001b[49m\u001b[43m \u001b[49m\u001b[43mconnect_diag\u001b[49m\u001b[43m)\u001b[49m\n\u001b[0;32m    140\u001b[0m     \u001b[38;5;28;01mif\u001b[39;00m prev_flow \u001b[38;5;241m!=\u001b[39m \u001b[38;5;241m-\u001b[39m\u001b[38;5;241m1\u001b[39m \u001b[38;5;129;01mand\u001b[39;00m \u001b[38;5;28mabs\u001b[39m(prev_flow \u001b[38;5;241m-\u001b[39m flow) \u001b[38;5;241m<\u001b[39m tol:\n\u001b[0;32m    141\u001b[0m         \u001b[38;5;28;01mbreak\u001b[39;00m\n",
      "Input \u001b[1;32mIn [5]\u001b[0m, in \u001b[0;36mgraph_cut\u001b[1;34m(img, types, alphas, fg_gmm, bg_gmm, beta, gamma, lamda, connect_diag)\u001b[0m\n\u001b[0;32m     83\u001b[0m                 oj \u001b[38;5;241m=\u001b[39m j\u001b[38;5;241m+\u001b[39m\u001b[38;5;241m1\u001b[39m \n\u001b[0;32m     84\u001b[0m                 edges\u001b[38;5;241m.\u001b[39mappend((vid(i, j), vid(oi, oj)))\n\u001b[1;32m---> 85\u001b[0m                 weights\u001b[38;5;241m.\u001b[39mappend(\u001b[43mcompute_V\u001b[49m\u001b[43m(\u001b[49m\u001b[43mi\u001b[49m\u001b[43m,\u001b[49m\u001b[43m \u001b[49m\u001b[43mj\u001b[49m\u001b[43m,\u001b[49m\u001b[43m \u001b[49m\u001b[43moi\u001b[49m\u001b[43m,\u001b[49m\u001b[43m \u001b[49m\u001b[43moj\u001b[49m\u001b[43m)\u001b[49m)\n\u001b[0;32m     87\u001b[0m graph\u001b[38;5;241m.\u001b[39madd_edges(edges, attributes\u001b[38;5;241m=\u001b[39m{\u001b[38;5;124m'\u001b[39m\u001b[38;5;124mweight\u001b[39m\u001b[38;5;124m'\u001b[39m: weights})\n\u001b[0;32m     88\u001b[0m logging\u001b[38;5;241m.\u001b[39minfo(\u001b[38;5;124m'\u001b[39m\u001b[38;5;124mMINCUT\u001b[39m\u001b[38;5;124m'\u001b[39m)\n",
      "Input \u001b[1;32mIn [5]\u001b[0m, in \u001b[0;36mgraph_cut.<locals>.compute_V\u001b[1;34m(i, j, oi, oj)\u001b[0m\n\u001b[0;32m     18\u001b[0m \u001b[38;5;28;01mdef\u001b[39;00m \u001b[38;5;21mcompute_V\u001b[39m(i, j, oi, oj):\n\u001b[0;32m     19\u001b[0m     diff \u001b[38;5;241m=\u001b[39m img[i, j] \u001b[38;5;241m-\u001b[39m img[oi, oj]\n\u001b[1;32m---> 20\u001b[0m     \u001b[38;5;28;01mreturn\u001b[39;00m gamma \u001b[38;5;241m*\u001b[39m np\u001b[38;5;241m.\u001b[39mexp(\u001b[38;5;241m-\u001b[39m beta \u001b[38;5;241m*\u001b[39m \u001b[43mdiff\u001b[49m\u001b[38;5;241;43m.\u001b[39;49m\u001b[43mdot\u001b[49m\u001b[43m(\u001b[49m\u001b[43mdiff\u001b[49m\u001b[43m)\u001b[49m)\n",
      "\u001b[1;31mKeyboardInterrupt\u001b[0m: "
     ]
    }
   ],
   "source": [
    "import os\n",
    "if __name__ == '__main__':\n",
    "    filelist=[]\n",
    "    path=os.getcwd()\n",
    "    path1=path+'\\\\train\\\\'\n",
    "    path2=path+'\\\\FG\\\\'\n",
    "    path3=path+'\\\\FGBG\\\\'\n",
    "    path4=path+'\\\\Output\\\\'\n",
    "    for filename in os.listdir(path2):\n",
    "          filelist.append(filename)\n",
    "    n=len(filelist)\n",
    "    for i in range(0,n):\n",
    "        p1=path1+filelist[i]\n",
    "        p2=path2+filelist[i]\n",
    "        p3=path3+filelist[i]\n",
    "        p4=path4+filelist[i]\n",
    "        print(p1)\n",
    "        fg=Image.open(p2)\n",
    "        fgbg=Image.open(p3)\n",
    "        data1=np.array(fg)\n",
    "        data2=np.asarray(fgbg)\n",
    "        alphas=data1/255\n",
    "        types=data2/255# Path to image file\n",
    "        n_components=NUM_GMM_COMP\n",
    "        gamma=GAMMA\n",
    "        lamda=LAMDA\n",
    "        num_iters=NUM_ITERS\n",
    "        tol=TOL\n",
    "        connect_diag=True\n",
    "        try:\n",
    "            img = cv2.imread(p1)\n",
    "            img2 = img.copy()\n",
    "            alphas = grab_cut(img2, types, alphas, n_components, gamma, lamda, num_iters, tol, connect_diag)\n",
    "            mask2 = np.where((alphas == 1), 255, 0).astype('uint8')\n",
    "            outim=Image.fromarray(mask2)\n",
    "            outim.save(p4)\n",
    "        finally:\n",
    "            cv2.destroyAllWindows()"
   ]
  },
  {
   "cell_type": "code",
   "execution_count": null,
   "id": "da4dc716",
   "metadata": {},
   "outputs": [],
   "source": []
  }
 ],
 "metadata": {
  "kernelspec": {
   "display_name": "Python 3 (ipykernel)",
   "language": "python",
   "name": "python3"
  },
  "language_info": {
   "codemirror_mode": {
    "name": "ipython",
    "version": 3
   },
   "file_extension": ".py",
   "mimetype": "text/x-python",
   "name": "python",
   "nbconvert_exporter": "python",
   "pygments_lexer": "ipython3",
   "version": "3.9.7"
  }
 },
 "nbformat": 4,
 "nbformat_minor": 5
}
